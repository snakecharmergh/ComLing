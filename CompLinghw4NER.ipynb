{
  "nbformat": 4,
  "nbformat_minor": 0,
  "metadata": {
    "colab": {
      "name": "CompLinghw4NER.ipynb",
      "provenance": [],
      "authorship_tag": "ABX9TyPjTqzhshbVGe9noqvccs1z",
      "include_colab_link": true
    },
    "kernelspec": {
      "name": "python3",
      "display_name": "Python 3"
    }
  },
  "cells": [
    {
      "cell_type": "markdown",
      "metadata": {
        "id": "view-in-github",
        "colab_type": "text"
      },
      "source": [
        "<a href=\"https://colab.research.google.com/github/snakecharmergh/ComLing/blob/master/CompLinghw4NER.ipynb\" target=\"_parent\"><img src=\"https://colab.research.google.com/assets/colab-badge.svg\" alt=\"Open In Colab\"/></a>"
      ]
    },
    {
      "cell_type": "code",
      "metadata": {
        "id": "RMkLwHODCrDG",
        "colab_type": "code",
        "outputId": "1d61443f-cd2e-4cfd-87a0-2e19d1f3396e",
        "colab": {
          "base_uri": "https://localhost:8080/",
          "height": 159
        }
      },
      "source": [
        "!pip install yargy\n",
        "from yargy import Parser, rule, or_\n",
        "from yargy.predicates import custom\n",
        "from yargy.pipelines import morph_pipeline\n",
        "from yargy.interpretation import fact\n",
        "from IPython.display import display\n",
        "\n",
        "import pandas as pd\n",
        "pd.set_option('display.max_colwidth', -1)"
      ],
      "execution_count": 0,
      "outputs": [
        {
          "output_type": "stream",
          "text": [
            "Requirement already satisfied: yargy in /usr/local/lib/python3.6/dist-packages (0.13.0)\n",
            "Requirement already satisfied: pymorphy2 in /usr/local/lib/python3.6/dist-packages (from yargy) (0.8)\n",
            "Requirement already satisfied: dawg-python>=0.7 in /usr/local/lib/python3.6/dist-packages (from pymorphy2->yargy) (0.7.2)\n",
            "Requirement already satisfied: pymorphy2-dicts<3.0,>=2.4 in /usr/local/lib/python3.6/dist-packages (from pymorphy2->yargy) (2.4.393442.3710985)\n",
            "Requirement already satisfied: docopt>=0.6 in /usr/local/lib/python3.6/dist-packages (from pymorphy2->yargy) (0.6.2)\n"
          ],
          "name": "stdout"
        },
        {
          "output_type": "stream",
          "text": [
            "/usr/local/lib/python3.6/dist-packages/ipykernel_launcher.py:14: FutureWarning: Passing a negative integer is deprecated in version 1.0 and will not be supported in future version. Instead, use None to not limit the column width.\n",
            "  \n"
          ],
          "name": "stderr"
        }
      ]
    },
    {
      "cell_type": "code",
      "metadata": {
        "id": "eXOkITPPDDnl",
        "colab_type": "code",
        "outputId": "15917f15-6e52-4dc1-c0e1-95cca3770510",
        "colab": {
          "base_uri": "https://localhost:8080/",
          "height": 208
        }
      },
      "source": [
        "!wget https://raw.githubusercontent.com/mannefedov/compling_nlp_hse_course/master/data/pristavki.csv"
      ],
      "execution_count": 0,
      "outputs": [
        {
          "output_type": "stream",
          "text": [
            "--2020-04-17 00:11:44--  https://raw.githubusercontent.com/mannefedov/compling_nlp_hse_course/master/data/pristavki.csv\n",
            "Resolving raw.githubusercontent.com (raw.githubusercontent.com)... 151.101.0.133, 151.101.64.133, 151.101.128.133, ...\n",
            "Connecting to raw.githubusercontent.com (raw.githubusercontent.com)|151.101.0.133|:443... connected.\n",
            "HTTP request sent, awaiting response... 200 OK\n",
            "Length: 2939556 (2.8M) [text/plain]\n",
            "Saving to: ‘pristavki.csv.1’\n",
            "\n",
            "pristavki.csv.1     100%[===================>]   2.80M  15.3MB/s    in 0.2s    \n",
            "\n",
            "2020-04-17 00:11:46 (15.3 MB/s) - ‘pristavki.csv.1’ saved [2939556/2939556]\n",
            "\n"
          ],
          "name": "stdout"
        }
      ]
    },
    {
      "cell_type": "code",
      "metadata": {
        "id": "vCtyXg_oDJAZ",
        "colab_type": "code",
        "colab": {}
      },
      "source": [
        "data = pd.read_csv('pristavki.csv', header=None, names=['text'])"
      ],
      "execution_count": 0,
      "outputs": []
    },
    {
      "cell_type": "code",
      "metadata": {
        "id": "kz3PwkN_DMMJ",
        "colab_type": "code",
        "outputId": "c33cb369-df31-4ea2-f185-9cf292b98d40",
        "colab": {
          "base_uri": "https://localhost:8080/",
          "height": 34
        }
      },
      "source": [
        "data.shape"
      ],
      "execution_count": 0,
      "outputs": [
        {
          "output_type": "execute_result",
          "data": {
            "text/plain": [
              "(9285, 1)"
            ]
          },
          "metadata": {
            "tags": []
          },
          "execution_count": 68
        }
      ]
    },
    {
      "cell_type": "code",
      "metadata": {
        "id": "XejNfT4gbKcA",
        "colab_type": "code",
        "colab": {}
      },
      "source": [
        "matches = []\n",
        "\n",
        "for sent in data.text[:100]:\n",
        "    for match in parser.findall(sent):\n",
        "        matches.append(match.fact)"
      ],
      "execution_count": 0,
      "outputs": []
    },
    {
      "cell_type": "code",
      "metadata": {
        "id": "LPaRH_5pu3bO",
        "colab_type": "code",
        "colab": {}
      },
      "source": [
        "Console = fact(\n",
        "    'Console',\n",
        "    ['name', 'specifications']\n",
        ")\n",
        "\n",
        "NES = rule(\n",
        "    morph_pipeline(['Nintendo', 'нинтендо', 'NES','Nintendo Entertainment System','Family Computer', 'Famicom', 'FC']).interpretation(Console.name.const('NES')),\n",
        "    morph_pipeline(['DS', 'DS Lite', 'DSi', '64', 'Wii', 'WiiU', '3ds', '2ds', 'Dendyland', 'land']).interpretation(Console.specifications)\n",
        "    ) \n",
        "\n",
        "Dendy = rule(\n",
        "    morph_pipeline(['Dendy', 'денди']).interpretation(Console.name.const('Dendy')),\n",
        "    morph_pipeline(['8 бит', '8 bit', 'classic', 'kids', 'Junior', 'юниор']).interpretation(Console.specifications)\n",
        "    )\n",
        "\n",
        "Sega = rule(\n",
        "    morph_pipeline(['Sega', 'Сега']).interpretation(Console.name.const('Sega')),\n",
        "    morph_pipeline(['16 bit', '16 бит', 'DC','Master System', 'SMS']).interpretation(Console.specifications)\n",
        "    )\n",
        "CONSOLE = or_(NES, Dendy, Sega).interpretation(Console)\n",
        "\n",
        "parser = Parser(CONSOLE)"
      ],
      "execution_count": 0,
      "outputs": []
    },
    {
      "cell_type": "code",
      "metadata": {
        "id": "VKDgvdYEQYbh",
        "colab_type": "code",
        "colab": {}
      },
      "source": [
        "matches = []\n",
        "\n",
        "for sent in data.text[:5000]:\n",
        "    for match in parser.findall(sent):\n",
        "        matches.append(match.fact)"
      ],
      "execution_count": 0,
      "outputs": []
    },
    {
      "cell_type": "code",
      "metadata": {
        "id": "DzA7rPqSb-bh",
        "colab_type": "code",
        "outputId": "54892de7-2b1d-4ea8-e4c8-0500b5e2719c",
        "colab": {
          "base_uri": "https://localhost:8080/",
          "height": 34
        }
      },
      "source": [
        "len(matches)"
      ],
      "execution_count": 0,
      "outputs": [
        {
          "output_type": "execute_result",
          "data": {
            "text/plain": [
              "67"
            ]
          },
          "metadata": {
            "tags": []
          },
          "execution_count": 130
        }
      ]
    },
    {
      "cell_type": "code",
      "metadata": {
        "id": "jsrYDcK7dYwX",
        "colab_type": "code",
        "outputId": "a849e012-9dbe-4407-ce85-b707fbf8160b",
        "colab": {
          "base_uri": "https://localhost:8080/",
          "height": 1000
        }
      },
      "source": [
        "for m in matches:\n",
        "    print(m.name, m.specifications)"
      ],
      "execution_count": 0,
      "outputs": [
        {
          "output_type": "stream",
          "text": [
            "Dendy Kids\n",
            "Dendy Kids\n",
            "Dendy Junior\n",
            "Dendy Kids\n",
            "NES DS\n",
            "Dendy Junior\n",
            "NES 3DS\n",
            "Dendy 8 бит\n",
            "NES 2ds\n",
            "NES Wii\n",
            "NES 3DS\n",
            "NES 64\n",
            "NES 64\n",
            "NES 3ds\n",
            "NES Wii\n",
            "NES Wii\n",
            "NES Wii\n",
            "NES Wii\n",
            "NES DS\n",
            "NES DS Lite\n",
            "NES Wii\n",
            "NES Wii\n",
            "NES Land\n",
            "NES Land\n",
            "NES Land\n",
            "NES DS\n",
            "NES 3DS\n",
            "Dendy Junior\n",
            "Dendy юниор\n",
            "NES 64\n",
            "Dendy юниор\n",
            "NES Wii\n",
            "Dendy Junior\n",
            "NES wii\n",
            "NES 2DS\n",
            "NES 3DS\n",
            "NES Wii\n",
            "Sega 16 бит\n",
            "NES 64\n",
            "NES DS Lite\n",
            "NES Wii\n",
            "NES 3DS\n",
            "Sega Master System\n",
            "NES Wii\n",
            "NES 2ds\n",
            "NES wii\n",
            "NES 3DS\n",
            "NES 64\n",
            "NES 3DS\n",
            "NES WiiU\n",
            "Dendy 8 Бит\n",
            "Dendy 8 бит\n",
            "Dendy 8 Бит\n",
            "Dendy 8 бит\n",
            "Sega Master System\n",
            "Dendy Junior\n",
            "NES 3ds\n",
            "NES 64\n",
            "NES 64\n",
            "NES 3DS\n",
            "Dendy Junior\n",
            "NES Wii\n",
            "Dendy Junior\n",
            "Dendy Junior\n",
            "Dendy юниор\n",
            "Dendy Junior\n",
            "Dendy 8 бит\n"
          ],
          "name": "stdout"
        }
      ]
    }
  ]
}